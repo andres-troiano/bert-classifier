{
 "cells": [
  {
   "cell_type": "markdown",
   "id": "ec7faf92",
   "metadata": {},
   "source": [
    "0. [Prepare dataset](#prepare)\n",
    "1. [Configuration](#configuration)\n",
    "2. [Model & Tokenizer](#model)\n",
    "3. [Datasets](#datasets)\n",
    "4. [Train](#training)\n",
    "5. [Inference](#inference)"
   ]
  },
  {
   "cell_type": "code",
   "execution_count": 1,
   "id": "7a0046f5",
   "metadata": {
    "scrolled": true
   },
   "outputs": [],
   "source": [
    "%pip install plotly-express\n",
    "%pip install --upgrade nbformat"
   ]
  },
  {
   "cell_type": "code",
   "execution_count": 1,
   "id": "d8f97e85",
   "metadata": {},
   "outputs": [
    {
     "name": "stderr",
     "output_type": "stream",
     "text": [
      "/home/ec2-user/anaconda3/envs/python_p38/lib/python3.8/site-packages/tqdm/auto.py:22: TqdmWarning: IProgress not found. Please update jupyter and ipywidgets. See https://ipywidgets.readthedocs.io/en/stable/user_install.html\n",
      "  from .autonotebook import tqdm as notebook_tqdm\n"
     ]
    }
   ],
   "source": [
    "import sys, os\n",
    "from tqdm import tqdm\n",
    "\n",
    "import plotly.express as px\n",
    "\n",
    "import pickle\n",
    "import numpy as np\n",
    "import pandas as pd\n",
    "import json\n",
    "\n",
    "import matplotlib.pyplot as plt\n",
    "from sklearn.metrics import classification_report\n",
    "\n",
    "from datasets import load_metric\n",
    "\n",
    "\n",
    "import torch\n",
    "from torch.utils.data import DataLoader\n",
    "\n",
    "import transformers\n",
    "from transformers import AutoTokenizer, AutoModelForSequenceClassification, TrainingArguments, Trainer\n",
    "\n",
    "import umap\n",
    "\n",
    "os.environ['TOKENIZERS_PARALLELISM'] = 'true'"
   ]
  },
  {
   "cell_type": "markdown",
   "id": "7bc01197",
   "metadata": {},
   "source": [
    "## 0. Prepare dataset  <a class=\"anchor\" id=\"prepare\"></a>\n",
    "- Positive class = 1\n",
    "- Negative class = 0"
   ]
  },
  {
   "cell_type": "code",
   "execution_count": 3,
   "id": "bbcbc7a9",
   "metadata": {},
   "outputs": [],
   "source": [
    "# df_positivo = pd.read_csv('data/df_transcription_inactivacion_positivo_merge.csv')\n",
    "# df_negativo = pd.read_csv('data/df_transcription_merge.csv')\n",
    "\n",
    "# outcome_positive = list(df_positivo.outcome.unique())\n",
    "\n",
    "# # al negativo le tengo que sacar las etiquetas que para este proyecto son positivas\n",
    "# df_negativo['invalid'] = df_negativo['outcome'].isin(outcome_positive)\n",
    "# df_negativo = df_negativo.loc[df_negativo['invalid']==False]\n",
    "# df_negativo.drop(columns=['invalid'], inplace=True)\n",
    "\n",
    "# # antes de juntar todo les pongo la clase\n",
    "# df_positivo['cls'] = 1\n",
    "# df_negativo['cls'] = 0\n",
    "\n",
    "# dataset_df = df_positivo.append(df_negativo)\n",
    "\n",
    "# # hay que filtrar los voicemail\n",
    "# # y los successful también. En este caso no los filtro porque están todos ok\n",
    "# dataset_df = dataset_df.loc[dataset_df['voicemail']==False]"
   ]
  },
  {
   "cell_type": "code",
   "execution_count": 4,
   "id": "3b55d3a0",
   "metadata": {},
   "outputs": [],
   "source": [
    "# dataset_df = dataset_df.sort_values(['num_id', 'num_interaction_time'])\n",
    "\n",
    "# all_conv_v = dataset_df.num_id.unique()\n",
    "# dataset_df['int_idx'] = 0\n",
    "\n",
    "# for conv_id in tqdm( all_conv_v ):\n",
    "#     f = (dataset_df.num_id == conv_id)\n",
    "#     dataset_df.loc[f, 'int_idx'] = np.arange(f.sum(), dtype=np.int64)"
   ]
  },
  {
   "cell_type": "code",
   "execution_count": 5,
   "id": "2b45d7c9",
   "metadata": {},
   "outputs": [],
   "source": [
    "#dataset_df.to_csv('data/dataset_df_inactivation.csv', index=False)"
   ]
  },
  {
   "cell_type": "markdown",
   "id": "58bd225c",
   "metadata": {},
   "source": [
    "## 1. Configuration <a class=\"anchor\" id=\"configuration\"></a>"
   ]
  },
  {
   "cell_type": "code",
   "execution_count": 2,
   "id": "98056276",
   "metadata": {},
   "outputs": [],
   "source": [
    "SEED = 42\n",
    "VERSION = 99 # le tiro este número para diferenciar, por las dudas que vaya a sobreescribir algo de otro modelo\n",
    "val_split = 0.1\n",
    "\n",
    "n_epochs = 5\n",
    "resume_from_checkpoint = True\n",
    "\n",
    "MODEL_NAME = \"dccuchile/bert-base-spanish-wwm-uncased\"\n",
    "\n",
    "\n",
    "BATCH_SIZE = 14\n",
    "\n",
    "# All classes\n",
    "ALL_CLASSES_V = ['negativo', 'positivo']\n",
    "N_CLASSES = len(ALL_CLASSES_V)"
   ]
  },
  {
   "cell_type": "markdown",
   "id": "2cee3bd8",
   "metadata": {},
   "source": [
    "## 2. Model & Tokenizer <a class=\"anchor\" id=\"model\"></a>"
   ]
  },
  {
   "cell_type": "code",
   "execution_count": 9,
   "id": "31f38bd6",
   "metadata": {},
   "outputs": [],
   "source": [
    "tokenizer = AutoTokenizer.from_pretrained(MODEL_NAME)"
   ]
  },
  {
   "cell_type": "code",
   "execution_count": 8,
   "id": "3005b3c1",
   "metadata": {},
   "outputs": [
    {
     "name": "stderr",
     "output_type": "stream",
     "text": [
      "Downloading pytorch_model.bin: 100%|██████████| 419M/419M [00:06<00:00, 64.8MB/s] \n",
      "Some weights of the model checkpoint at dccuchile/bert-base-spanish-wwm-uncased were not used when initializing BertForSequenceClassification: ['cls.predictions.bias', 'cls.predictions.transform.dense.bias', 'cls.predictions.transform.dense.weight', 'cls.predictions.transform.LayerNorm.bias', 'cls.predictions.decoder.bias', 'cls.predictions.transform.LayerNorm.weight', 'cls.predictions.decoder.weight']\n",
      "- This IS expected if you are initializing BertForSequenceClassification from the checkpoint of a model trained on another task or with another architecture (e.g. initializing a BertForSequenceClassification model from a BertForPreTraining model).\n",
      "- This IS NOT expected if you are initializing BertForSequenceClassification from the checkpoint of a model that you expect to be exactly identical (initializing a BertForSequenceClassification model from a BertForSequenceClassification model).\n",
      "Some weights of BertForSequenceClassification were not initialized from the model checkpoint at dccuchile/bert-base-spanish-wwm-uncased and are newly initialized: ['classifier.weight', 'bert.pooler.dense.bias', 'bert.pooler.dense.weight', 'classifier.bias']\n",
      "You should probably TRAIN this model on a down-stream task to be able to use it for predictions and inference.\n"
     ]
    }
   ],
   "source": [
    "model = AutoModelForSequenceClassification.from_pretrained(\n",
    "    MODEL_NAME,\n",
    "    num_labels=N_CLASSES\n",
    ")"
   ]
  },
  {
   "cell_type": "markdown",
   "id": "ff59c9ce",
   "metadata": {},
   "source": [
    "## 3. Dataset <a class=\"anchor\" id=\"datasets\"></a>"
   ]
  },
  {
   "cell_type": "code",
   "execution_count": 6,
   "id": "b27f0d10",
   "metadata": {},
   "outputs": [],
   "source": [
    "class DS:\n",
    "    def __init__(\n",
    "        self,\n",
    "        dataset_df,\n",
    "        tokenizer,\n",
    "        training=False,\n",
    "        split_seed=42,\n",
    "        val_split=0.15,\n",
    "        n_pad=512,\n",
    "    ):\n",
    "        \n",
    "        self.training = training\n",
    "        self.dataset_df = dataset_df.set_index('num_id')\n",
    "        self.tokenizer = tokenizer\n",
    "        self.n_pad = n_pad\n",
    "        \n",
    "        self.all_conv_v = dataset_df.num_id.unique()\n",
    "        \n",
    "        n_trn_samples = int( self.all_conv_v.shape[0] * (1 - val_split) )\n",
    "        \n",
    "        np.random.seed(split_seed)\n",
    "        idx_v = np.random.permutation(self.all_conv_v.shape[0])\n",
    "        np.random.seed(None)\n",
    "        \n",
    "        if self.training:\n",
    "            self.all_conv_v = self.all_conv_v[:n_trn_samples]\n",
    "        else:\n",
    "            self.all_conv_v = self.all_conv_v[n_trn_samples:]\n",
    "        \n",
    "        return None\n",
    "        \n",
    "    def __getitem__(self, idx):\n",
    "        sample_id = self.all_conv_v[idx]\n",
    "        \n",
    "        conv_df = self.dataset_df.loc[sample_id]\n",
    "        \n",
    "        \n",
    "        lines_v = conv_df.des_message.values\n",
    "        max_len = 3 * self.n_pad // len(lines_v)\n",
    "        \n",
    "        text = '[SEP]'.join( [' '.join( l.split(' ')[:max_len] ) for l in lines_v] )\n",
    "        \n",
    "        inputs = self.tokenizer(\n",
    "            text,\n",
    "            padding='max_length',\n",
    "            truncation=True,\n",
    "            max_length=self.n_pad,\n",
    "            return_tensors='pt',\n",
    "        )\n",
    "        \n",
    "        \n",
    "        data = {\n",
    "            'sample_id':sample_id,\n",
    "            'conv_df':conv_df,\n",
    "            \n",
    "            'text': text,\n",
    "            'label': torch.tensor( conv_df['cls'].iloc[0], dtype=torch.int64),\n",
    "        }\n",
    "        \n",
    "        for k in inputs.keys():\n",
    "            data[k] = inputs[k][0]\n",
    "        \n",
    "        return data\n",
    "        \n",
    "        \n",
    "    def __len__(self):\n",
    "        return len(self.all_conv_v)\n",
    "    \n",
    "    \n",
    "    def collate_fn(self, data_v):\n",
    "        keys_v = tuple( data_v[0].keys() )\n",
    "        ret_d = {k: list() for k in keys_v}\n",
    "        \n",
    "        for k in keys_v:\n",
    "            for data in data_v:\n",
    "                ret_d[k].append( data[k] )\n",
    "        \n",
    "        for k in keys_v:\n",
    "            if type( ret_d[k][0] ) is torch.Tensor:\n",
    "                ret_d[k] = torch.stack( ret_d[k] )\n",
    "            \n",
    "            elif type( ret_d[k][0] ) is transformers.tokenization_utils_base.BatchEncoding:\n",
    "                inputs = self.collate_fn(ret_d[k])                \n",
    "                ret_d[k] = transformers.tokenization_utils_base.BatchEncoding(inputs)\n",
    "            \n",
    "            else:\n",
    "                ret_d[k] = np.array( ret_d[k], dtype=np.object_ )\n",
    "                \n",
    "        return ret_d"
   ]
  },
  {
   "cell_type": "code",
   "execution_count": 7,
   "id": "6017c2bd",
   "metadata": {},
   "outputs": [],
   "source": [
    "dataset_df = pd.read_csv('data/dataset_df_inactivation.csv')"
   ]
  },
  {
   "cell_type": "code",
   "execution_count": 10,
   "id": "79af0601",
   "metadata": {},
   "outputs": [],
   "source": [
    "ds_trn = DS(\n",
    "    dataset_df,\n",
    "    tokenizer,\n",
    "    training=True,\n",
    "    val_split=val_split,\n",
    "    split_seed=SEED,\n",
    ")\n",
    "\n",
    "ds_val = DS(\n",
    "    dataset_df,\n",
    "    tokenizer,\n",
    "    training=False,\n",
    "    val_split=val_split,\n",
    "    split_seed=SEED,\n",
    ")"
   ]
  },
  {
   "cell_type": "markdown",
   "id": "65634ce9",
   "metadata": {},
   "source": [
    "## 4. Train <a class=\"anchor\" id=\"training\"></a>"
   ]
  },
  {
   "cell_type": "code",
   "execution_count": 13,
   "id": "2ab20ec8",
   "metadata": {},
   "outputs": [
    {
     "name": "stderr",
     "output_type": "stream",
     "text": [
      "Downloading builder script: 4.21kB [00:00, 1.48MB/s]                   \n"
     ]
    }
   ],
   "source": [
    "metric = load_metric(\"accuracy\")\n",
    "\n",
    "def compute_metrics(eval_pred):\n",
    "    logits, labels = eval_pred\n",
    "    predictions = np.argmax(logits, axis=-1)\n",
    "    return metric.compute(predictions=predictions, references=labels)"
   ]
  },
  {
   "cell_type": "code",
   "execution_count": 14,
   "id": "df2ea1ea",
   "metadata": {},
   "outputs": [],
   "source": [
    "training_args = TrainingArguments(\n",
    "    output_dir=f\"inactivation_models_v{VERSION}\",\n",
    "    num_train_epochs=float(n_epochs),\n",
    "    evaluation_strategy=\"epoch\",\n",
    "    \n",
    "    per_device_train_batch_size=BATCH_SIZE,\n",
    "    per_device_eval_batch_size=2*BATCH_SIZE,\n",
    "    gradient_accumulation_steps=1,\n",
    "    \n",
    "    resume_from_checkpoint=resume_from_checkpoint,\n",
    "    save_strategy='epoch',\n",
    "    \n",
    "    metric_for_best_model='accuracy',\n",
    "    load_best_model_at_end=True,\n",
    "    greater_is_better=True,\n",
    ")"
   ]
  },
  {
   "cell_type": "code",
   "execution_count": 15,
   "id": "11dd5766",
   "metadata": {},
   "outputs": [],
   "source": [
    "trainer = Trainer(\n",
    "    model=model,\n",
    "    args=training_args,\n",
    "    #data_collator=ds_trn.collate_fn,\n",
    "    train_dataset=ds_trn,\n",
    "    eval_dataset=ds_val,\n",
    "    compute_metrics=compute_metrics,\n",
    ")"
   ]
  },
  {
   "cell_type": "code",
   "execution_count": 16,
   "id": "3b02e982",
   "metadata": {
    "scrolled": false
   },
   "outputs": [
    {
     "name": "stderr",
     "output_type": "stream",
     "text": [
      "/home/ec2-user/anaconda3/envs/python_p38/lib/python3.8/site-packages/transformers/optimization.py:306: FutureWarning: This implementation of AdamW is deprecated and will be removed in a future version. Use the PyTorch implementation torch.optim.AdamW instead, or set `no_deprecation_warning=True` to disable this warning\n",
      "  warnings.warn(\n",
      "***** Running training *****\n",
      "  Num examples = 4797\n",
      "  Num Epochs = 5\n",
      "  Instantaneous batch size per device = 14\n",
      "  Total train batch size (w. parallel, distributed & accumulation) = 14\n",
      "  Gradient Accumulation steps = 1\n",
      "  Total optimization steps = 1715\n",
      "The following columns in the training set don't have a corresponding argument in `BertForSequenceClassification.forward` and have been ignored: conv_df, sample_id, text. If conv_df, sample_id, text are not expected by `BertForSequenceClassification.forward`,  you can safely ignore this message.\n"
     ]
    },
    {
     "data": {
      "text/html": [
       "\n",
       "    <div>\n",
       "      \n",
       "      <progress value='1715' max='1715' style='width:300px; height:20px; vertical-align: middle;'></progress>\n",
       "      [1715/1715 1:14:08, Epoch 5/5]\n",
       "    </div>\n",
       "    <table border=\"1\" class=\"dataframe\">\n",
       "  <thead>\n",
       " <tr style=\"text-align: left;\">\n",
       "      <th>Epoch</th>\n",
       "      <th>Training Loss</th>\n",
       "      <th>Validation Loss</th>\n",
       "      <th>Accuracy</th>\n",
       "    </tr>\n",
       "  </thead>\n",
       "  <tbody>\n",
       "    <tr>\n",
       "      <td>1</td>\n",
       "      <td>No log</td>\n",
       "      <td>0.143037</td>\n",
       "      <td>0.956848</td>\n",
       "    </tr>\n",
       "    <tr>\n",
       "      <td>2</td>\n",
       "      <td>0.173800</td>\n",
       "      <td>0.127627</td>\n",
       "      <td>0.958724</td>\n",
       "    </tr>\n",
       "    <tr>\n",
       "      <td>3</td>\n",
       "      <td>0.091800</td>\n",
       "      <td>0.135174</td>\n",
       "      <td>0.964353</td>\n",
       "    </tr>\n",
       "    <tr>\n",
       "      <td>4</td>\n",
       "      <td>0.091800</td>\n",
       "      <td>0.156454</td>\n",
       "      <td>0.968105</td>\n",
       "    </tr>\n",
       "    <tr>\n",
       "      <td>5</td>\n",
       "      <td>0.036700</td>\n",
       "      <td>0.167292</td>\n",
       "      <td>0.966229</td>\n",
       "    </tr>\n",
       "  </tbody>\n",
       "</table><p>"
      ],
      "text/plain": [
       "<IPython.core.display.HTML object>"
      ]
     },
     "metadata": {},
     "output_type": "display_data"
    },
    {
     "name": "stderr",
     "output_type": "stream",
     "text": [
      "***** Running Evaluation *****\n",
      "  Num examples = 533\n",
      "  Batch size = 28\n",
      "The following columns in the evaluation set don't have a corresponding argument in `BertForSequenceClassification.forward` and have been ignored: conv_df, sample_id, text. If conv_df, sample_id, text are not expected by `BertForSequenceClassification.forward`,  you can safely ignore this message.\n",
      "Saving model checkpoint to inactivation_models_v99/checkpoint-343\n",
      "Configuration saved in inactivation_models_v99/checkpoint-343/config.json\n",
      "Model weights saved in inactivation_models_v99/checkpoint-343/pytorch_model.bin\n",
      "***** Running Evaluation *****\n",
      "  Num examples = 533\n",
      "  Batch size = 28\n",
      "The following columns in the evaluation set don't have a corresponding argument in `BertForSequenceClassification.forward` and have been ignored: conv_df, sample_id, text. If conv_df, sample_id, text are not expected by `BertForSequenceClassification.forward`,  you can safely ignore this message.\n",
      "Saving model checkpoint to inactivation_models_v99/checkpoint-686\n",
      "Configuration saved in inactivation_models_v99/checkpoint-686/config.json\n",
      "Model weights saved in inactivation_models_v99/checkpoint-686/pytorch_model.bin\n",
      "***** Running Evaluation *****\n",
      "  Num examples = 533\n",
      "  Batch size = 28\n",
      "The following columns in the evaluation set don't have a corresponding argument in `BertForSequenceClassification.forward` and have been ignored: conv_df, sample_id, text. If conv_df, sample_id, text are not expected by `BertForSequenceClassification.forward`,  you can safely ignore this message.\n",
      "Saving model checkpoint to inactivation_models_v99/checkpoint-1029\n",
      "Configuration saved in inactivation_models_v99/checkpoint-1029/config.json\n",
      "Model weights saved in inactivation_models_v99/checkpoint-1029/pytorch_model.bin\n",
      "***** Running Evaluation *****\n",
      "  Num examples = 533\n",
      "  Batch size = 28\n",
      "The following columns in the evaluation set don't have a corresponding argument in `BertForSequenceClassification.forward` and have been ignored: conv_df, sample_id, text. If conv_df, sample_id, text are not expected by `BertForSequenceClassification.forward`,  you can safely ignore this message.\n",
      "Saving model checkpoint to inactivation_models_v99/checkpoint-1372\n",
      "Configuration saved in inactivation_models_v99/checkpoint-1372/config.json\n",
      "Model weights saved in inactivation_models_v99/checkpoint-1372/pytorch_model.bin\n",
      "***** Running Evaluation *****\n",
      "  Num examples = 533\n",
      "  Batch size = 28\n",
      "The following columns in the evaluation set don't have a corresponding argument in `BertForSequenceClassification.forward` and have been ignored: conv_df, sample_id, text. If conv_df, sample_id, text are not expected by `BertForSequenceClassification.forward`,  you can safely ignore this message.\n",
      "Saving model checkpoint to inactivation_models_v99/checkpoint-1715\n",
      "Configuration saved in inactivation_models_v99/checkpoint-1715/config.json\n",
      "Model weights saved in inactivation_models_v99/checkpoint-1715/pytorch_model.bin\n",
      "\n",
      "\n",
      "Training completed. Do not forget to share your model on huggingface.co/models =)\n",
      "\n",
      "\n",
      "Loading best model from inactivation_models_v99/checkpoint-1372 (score: 0.9681050656660413).\n"
     ]
    },
    {
     "data": {
      "text/plain": [
       "TrainOutput(global_step=1715, training_loss=0.09085095769809912, metrics={'train_runtime': 4450.7379, 'train_samples_per_second': 5.389, 'train_steps_per_second': 0.385, 'total_flos': 6310718662809600.0, 'train_loss': 0.09085095769809912, 'epoch': 5.0})"
      ]
     },
     "execution_count": 16,
     "metadata": {},
     "output_type": "execute_result"
    }
   ],
   "source": [
    "trainer.train()"
   ]
  },
  {
   "cell_type": "code",
   "execution_count": null,
   "id": "fd6af53a",
   "metadata": {},
   "outputs": [],
   "source": [
    "sys.exit(0)"
   ]
  },
  {
   "cell_type": "markdown",
   "id": "15c84164",
   "metadata": {},
   "source": [
    "### Restore best checkpoint"
   ]
  },
  {
   "cell_type": "code",
   "execution_count": 3,
   "id": "cd05022e",
   "metadata": {},
   "outputs": [],
   "source": [
    "model = AutoModelForSequenceClassification.from_pretrained(\n",
    "    'inactivation_models_v99/checkpoint-1372'\n",
    ")"
   ]
  },
  {
   "cell_type": "markdown",
   "id": "a8991c62",
   "metadata": {},
   "source": [
    "## 5. Inference <a class=\"anchor\" id=\"inference\"></a>"
   ]
  },
  {
   "cell_type": "code",
   "execution_count": 4,
   "id": "61903450",
   "metadata": {},
   "outputs": [],
   "source": [
    "def eval_model(model, dl, return_targets=True, device='cpu'):\n",
    "    preds_v  = []\n",
    "    label_v = []\n",
    "    probs_v  = []\n",
    "    \n",
    "    \n",
    "    if model.training:\n",
    "        model.eval()\n",
    "    \n",
    "    model.to(device)\n",
    "    \n",
    "    with torch.no_grad():\n",
    "        for data in tqdm(dl):\n",
    "\n",
    "            logits = model(\n",
    "                input_ids=data['input_ids'].to(device),\n",
    "                token_type_ids=data['token_type_ids'].to(device),\n",
    "                attention_mask=data['attention_mask'].to(device),\n",
    "            )['logits']\n",
    "\n",
    "\n",
    "            probs = logits.softmax(axis=-1).detach().cpu().numpy()\n",
    "            preds = probs.argmax(axis=-1)\n",
    "\n",
    "            probs_v.append(probs)\n",
    "            preds_v.append(preds)\n",
    "\n",
    "            if return_targets:\n",
    "                label = data['label'].detach().cpu().numpy()\n",
    "                label_v.append(label)\n",
    "\n",
    "    probs_v = np.concatenate(probs_v)\n",
    "    preds_v = np.concatenate(preds_v)\n",
    "    \n",
    "    ret_d = {\n",
    "        'probs':probs_v,\n",
    "        'preds':preds_v,\n",
    "    }    \n",
    "    \n",
    "    if return_targets:\n",
    "        label_v = np.concatenate(label_v)\n",
    "        ret_d['label'] = label_v\n",
    "    \n",
    "    return ret_d"
   ]
  },
  {
   "cell_type": "code",
   "execution_count": 11,
   "id": "58bfd8dd",
   "metadata": {},
   "outputs": [],
   "source": [
    "dl_trn = DataLoader(ds_trn, batch_size=2*BATCH_SIZE, collate_fn=ds_trn.collate_fn, shuffle=True)\n",
    "dl_val = DataLoader(ds_val, batch_size=2*BATCH_SIZE, collate_fn=ds_val.collate_fn, shuffle=False)"
   ]
  },
  {
   "cell_type": "markdown",
   "id": "5c325a22",
   "metadata": {},
   "source": [
    "### Train data"
   ]
  },
  {
   "cell_type": "code",
   "execution_count": 11,
   "id": "57897125",
   "metadata": {},
   "outputs": [
    {
     "name": "stderr",
     "output_type": "stream",
     "text": [
      "100%|██████████| 172/172 [04:56<00:00,  1.72s/it]\n"
     ]
    }
   ],
   "source": [
    "trn_preds_d = eval_model(model, dl_trn, device='cuda:0')"
   ]
  },
  {
   "cell_type": "code",
   "execution_count": 12,
   "id": "4d2d9e50",
   "metadata": {},
   "outputs": [
    {
     "name": "stdout",
     "output_type": "stream",
     "text": [
      "Classification Report: ds_trn\n",
      "              precision    recall  f1-score   support\n",
      "\n",
      "    negativo       1.00      1.00      1.00      3515\n",
      "    positivo       1.00      0.99      0.99      1282\n",
      "\n",
      "    accuracy                           1.00      4797\n",
      "   macro avg       1.00      1.00      1.00      4797\n",
      "weighted avg       1.00      1.00      1.00      4797\n",
      "\n"
     ]
    }
   ],
   "source": [
    "print('Classification Report: ds_trn')\n",
    "report_str = classification_report(\n",
    "    y_true=trn_preds_d['label'],\n",
    "    y_pred=trn_preds_d['preds'],\n",
    "    target_names=ALL_CLASSES_V,\n",
    "    digits=2,\n",
    "    zero_division=1,\n",
    ")\n",
    "\n",
    "print( report_str )"
   ]
  },
  {
   "cell_type": "markdown",
   "id": "1c937486",
   "metadata": {},
   "source": [
    "### Validation data"
   ]
  },
  {
   "cell_type": "code",
   "execution_count": 13,
   "id": "e6d10b24",
   "metadata": {},
   "outputs": [
    {
     "name": "stderr",
     "output_type": "stream",
     "text": [
      "100%|██████████| 20/20 [00:33<00:00,  1.65s/it]\n"
     ]
    }
   ],
   "source": [
    "val_preds_d = eval_model(model, dl_val, device='cuda:0')"
   ]
  },
  {
   "cell_type": "code",
   "execution_count": 14,
   "id": "4d136d52",
   "metadata": {},
   "outputs": [
    {
     "name": "stdout",
     "output_type": "stream",
     "text": [
      "Classification Report: ds_val\n",
      "              precision    recall  f1-score   support\n",
      "\n",
      "    negativo       0.98      0.98      0.98       384\n",
      "    positivo       0.94      0.95      0.94       149\n",
      "\n",
      "    accuracy                           0.97       533\n",
      "   macro avg       0.96      0.96      0.96       533\n",
      "weighted avg       0.97      0.97      0.97       533\n",
      "\n"
     ]
    }
   ],
   "source": [
    "print('Classification Report: ds_val')\n",
    "report_str = classification_report(\n",
    "    y_true=val_preds_d['label'],\n",
    "    y_pred=val_preds_d['preds'],\n",
    "    target_names=ALL_CLASSES_V,\n",
    "    digits=2,\n",
    "    zero_division=1,\n",
    ")\n",
    "\n",
    "print( report_str )"
   ]
  },
  {
   "cell_type": "markdown",
   "id": "e14a2ad8",
   "metadata": {},
   "source": [
    "## Plot embeddings"
   ]
  },
  {
   "cell_type": "code",
   "execution_count": 12,
   "id": "3d9f2b46",
   "metadata": {},
   "outputs": [],
   "source": [
    "def eval_model_interaction(model, dl, return_targets=True, add_int_idx=True, device='cpu'):\n",
    "    embed_lhs_v  = []\n",
    "    embed_po_v = []\n",
    "    label_v = []\n",
    "    sample_id_v = []\n",
    "    int_idx_v = []\n",
    "    \n",
    "    embed_model = model.bert\n",
    "    \n",
    "    if embed_model.training:\n",
    "        embed_model.eval()\n",
    "        \n",
    "    embed_model.to(device)\n",
    "    \n",
    "    with torch.no_grad():\n",
    "        for data in tqdm(dl):\n",
    "\n",
    "            embeddings = embed_model(\n",
    "                input_ids=data['input_ids'].to(device),\n",
    "                token_type_ids=data['token_type_ids'].to(device),\n",
    "                attention_mask=data['attention_mask'].to(device),\n",
    "            )\n",
    "\n",
    "            embed_lhs = embeddings['last_hidden_state'][:,0,:].detach().cpu().numpy()\n",
    "            embed_po = embeddings['pooler_output'].detach().cpu().numpy()\n",
    "\n",
    "            embed_lhs_v.append(embed_lhs)\n",
    "            embed_po_v.append(embed_po)\n",
    "\n",
    "            sample_id_v.append( data['sample_id'] )\n",
    "            \n",
    "            if add_int_idx:\n",
    "                int_idx_v.append( data['int_idx'] )\n",
    "\n",
    "            if return_targets:\n",
    "                label = data['label'].detach().cpu().numpy()\n",
    "                label_v.append(label)\n",
    "\n",
    "    embed_lhs_v = np.concatenate(embed_lhs_v)\n",
    "    embed_po_v = np.concatenate(embed_po_v)\n",
    "    sample_id_v = np.concatenate(sample_id_v)\n",
    "    \n",
    "    \n",
    "    ret_d = {\n",
    "        'embed_lhs' :embed_lhs_v,\n",
    "        'embed_po': embed_po_v,\n",
    "        'sample_id': sample_id_v,\n",
    "        'int_idx': int_idx_v,\n",
    "    }    \n",
    "    \n",
    "    if return_targets:\n",
    "        label_v = np.concatenate(label_v)\n",
    "        ret_d['label'] = label_v\n",
    "    \n",
    "    if add_int_idx:\n",
    "        int_idx_v = np.concatenate(int_idx_v)\n",
    "        ret_d['int_idx'] = int_idx_v\n",
    "        \n",
    "    return ret_d"
   ]
  },
  {
   "cell_type": "code",
   "execution_count": 13,
   "id": "c69df30b",
   "metadata": {},
   "outputs": [
    {
     "name": "stderr",
     "output_type": "stream",
     "text": [
      "100%|██████████| 20/20 [00:32<00:00,  1.63s/it]\n"
     ]
    }
   ],
   "source": [
    "val_embeddings_d = eval_model_interaction(model, dl_val, return_targets=True, add_int_idx=False, device='cuda:0')"
   ]
  },
  {
   "cell_type": "code",
   "execution_count": 14,
   "id": "a37c136f",
   "metadata": {},
   "outputs": [],
   "source": [
    "features = val_embeddings_d['embed_po']\n",
    "\n",
    "umap_2d_po = umap.UMAP(n_components=2, init='random', random_state=0, n_neighbors=20)\n",
    "proj_2d_po = umap_2d_po.fit_transform(features)"
   ]
  },
  {
   "cell_type": "code",
   "execution_count": 15,
   "id": "ce01f934",
   "metadata": {},
   "outputs": [],
   "source": [
    "df_po = pd.DataFrame(data=proj_2d_po, index=None, columns=['x', 'y'])\n",
    "df_po['cls'] = val_embeddings_d['label']\n",
    "df_po['label'] = df_po['cls'].replace({0: 'negativo', 1: 'positivo'})"
   ]
  },
  {
   "cell_type": "code",
   "execution_count": 1,
   "id": "cfe80838",
   "metadata": {},
   "outputs": [],
   "source": [
    "#fig = px.scatter(df_po, x='x', y='y', color='label', title='Por conversación - Pooler output')\n",
    "#fig.show()"
   ]
  },
  {
   "cell_type": "code",
   "execution_count": null,
   "id": "40af723d",
   "metadata": {},
   "outputs": [],
   "source": []
  }
 ],
 "metadata": {
  "kernelspec": {
   "display_name": "Python 3",
   "language": "python",
   "name": "python3"
  },
  "language_info": {
   "codemirror_mode": {
    "name": "ipython",
    "version": 3
   },
   "file_extension": ".py",
   "mimetype": "text/x-python",
   "name": "python",
   "nbconvert_exporter": "python",
   "pygments_lexer": "ipython3",
   "version": "3.8.8"
  }
 },
 "nbformat": 4,
 "nbformat_minor": 5
}
